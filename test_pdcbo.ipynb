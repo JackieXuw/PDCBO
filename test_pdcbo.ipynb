{
 "cells": [
  {
   "cell_type": "code",
   "execution_count": 2,
   "id": "b864e355",
   "metadata": {},
   "outputs": [
    {
     "name": "stdout",
     "output_type": "stream",
     "text": [
      "The autoreload extension is already loaded. To reload it, use:\n",
      "  %reload_ext autoreload\n"
     ]
    }
   ],
   "source": [
    "import copy\n",
    "import os\n",
    "import pickle\n",
    "import datetime\n",
    "import util\n",
    "from tune_util import get_vacbo_optimizer\n",
    "\n",
    "\n",
    "# parameter configurations to enumerate\n",
    "\n",
    "os.environ['KMP_DUPLICATE_LIB_OK'] = 'True'\n",
    "optimization_config = {\n",
    "    'eval_budget': 50\n",
    "}\n",
    "run_traj_num = 50\n",
    "optimizer_base_config = {\n",
    "    'noise_level': [0.001, 0.001],\n",
    "    'kernel_var': 1.0,\n",
    "    'problem_name': 'sample_GP_two_dim',\n",
    "    'normalize_input': False\n",
    "}\n",
    "VARS_TO_FIX = []\n",
    "CONTEXTUAL_VARS = ['z']\n",
    "\n",
    "save_name_append = f'_with_context'\n",
    "%load_ext autoreload\n",
    "%autoreload 2"
   ]
  },
  {
   "cell_type": "code",
   "execution_count": 3,
   "id": "4965b8a9",
   "metadata": {},
   "outputs": [
    {
     "name": "stdout",
     "output_type": "stream",
     "text": [
      "Start sampling functions.\n",
      "  \u001b[1mrbf.       \u001b[0;0m  |  value  |  constraints  |  priors\n",
      "  \u001b[1mvariance   \u001b[0;0m  |    2.0  |      +ve      |        \n",
      "  \u001b[1mlengthscale\u001b[0;0m  |   (2,)  |      +ve      |         0.01\n",
      "  \u001b[1mrbf.       \u001b[0;0m  |  value  |  constraints  |  priors\n",
      "  \u001b[1mvariance   \u001b[0;0m  |    2.0  |      +ve      |        \n",
      "  \u001b[1mlengthscale\u001b[0;0m  |   (2,)  |      +ve      |         0.01\n",
      "Functions sampled.\n",
      "[0.0, 0.0]\n",
      "2\n",
      "[50, 1]\n"
     ]
    }
   ],
   "source": [
    "problem_name = 'sample_GP_two_dim'\n",
    "problem_config = util.get_config(\n",
    "                problem_name, gp_kernel='Gaussian',\n",
    "                vars_to_fix=VARS_TO_FIX, contextual_vars=CONTEXTUAL_VARS)\n",
    "\n",
    "# run PDCBO\n",
    "pdcbo_config = copy.deepcopy(optimizer_base_config)\n",
    "pdcbo_config.update({\n",
    "        'eta_0': 1.0,\n",
    "        'eta_func': lambda t: 1.0,\n",
    "        'total_eval_num': optimization_config['eval_budget'],\n",
    "        'init_dual': 0.0,\n",
    "        'lcb_coef': lambda t: 1.0  # 1e-6\n",
    "    })\n",
    "\n",
    "optimizer_type = 'pdcbo'"
   ]
  },
  {
   "cell_type": "code",
   "execution_count": 4,
   "id": "3435fbea",
   "metadata": {},
   "outputs": [
    {
     "name": "stdout",
     "output_type": "stream",
     "text": [
      "Config got.\n",
      "[[0.07612897]]\n",
      "The opt problem got.\n"
     ]
    }
   ],
   "source": [
    "opt, opt_total_cost_list, opt_problem = get_vacbo_optimizer(\n",
    "        pdcbo_config['problem_name'], optimizer_type, pdcbo_config,\n",
    "        vars_to_fix=VARS_TO_FIX,\n",
    "        contextual_vars=CONTEXTUAL_VARS,\n",
    "        problem_config=problem_config\n",
    "    )\n",
    "\n",
    "print('The opt problem got.')\n",
    "opt_obj_list = []\n",
    "constraints1_list = []\n",
    "contexts_list = []\n",
    "cond_min_list = []"
   ]
  },
  {
   "cell_type": "code",
   "execution_count": 7,
   "id": "8ecf5aac",
   "metadata": {},
   "outputs": [],
   "source": [
    "step=0"
   ]
  },
  {
   "cell_type": "code",
   "execution_count": 25,
   "id": "2073d84b",
   "metadata": {},
   "outputs": [
    {
     "name": "stdout",
     "output_type": "stream",
     "text": [
      "Obj mean and sd ranges: 1.1087367469997256 and 0.017344653337179338\n",
      "Constrs mean and sd ranges: [3.09362709] and [0.0869053]\n",
      "For the problem sample_GP_two_dim, in                   step , we get objective [[1.57715826]] and constraints                   [[-2.57770583]].\n",
      "Context -7.6, cond_min -0.7303829323239381\n"
     ]
    }
   ],
   "source": [
    "if True:\n",
    "    if True:\n",
    "        context_vars, cond_min = opt_problem.get_context(step=step)\n",
    "        step += 1\n",
    "        y_obj, constr_vals = opt.make_step(context_vars)\n",
    "        if optimizer_type == 'safe_bo':\n",
    "            new_cumu_cost = opt.safe_bo.cumu_vio_cost\n",
    "            opt_problem = opt.safe_bo.opt_problem\n",
    "        if optimizer_type == 'constrained_bo':\n",
    "            new_cumu_cost = opt.constrained_bo.cumu_vio_cost\n",
    "            opt_problem = opt.constrained_bo.opt_problem\n",
    "        if optimizer_type == 'violation_aware_bo':\n",
    "            new_cumu_cost = opt.violation_aware_bo.cumu_vio_cost\n",
    "            opt_problem = opt.violation_aware_bo.opt_problem\n",
    "        if optimizer_type == 'pdcbo':\n",
    "            new_cumu_cost = opt.pdbo.cumu_vio_cost\n",
    "            opt_problem = opt.pdbo.opt_problem\n",
    "        if optimizer_type == 'no opt':\n",
    "            new_cumu_cost = opt.cumu_vio_cost\n",
    "            opt_problem = opt.opt_problem\n",
    "        if optimizer_type == 'grid search':\n",
    "            new_cumu_cost = opt.cumu_vio_cost\n",
    "            opt_problem = opt.opt_problem\n",
    "\n",
    "        opt_obj_list.append(y_obj[0,0])\n",
    "        constraints1_list.append(constr_vals[:, 0])\n",
    "        contexts_list.append(context_vars)\n",
    "        cond_min_list.append(cond_min)\n",
    "        print_log = True\n",
    "        if print_log:\n",
    "            print(f\"For the problem {opt_problem.problem_name}, in \\\n",
    "                  step {_}, we get objective {y_obj} and constraints \\\n",
    "                  {constr_vals}.\")\n",
    "            print(f\"Context {context_vars}, cond_min {cond_min}\")"
   ]
  },
  {
   "cell_type": "code",
   "execution_count": 21,
   "id": "e291d9da",
   "metadata": {},
   "outputs": [
    {
     "data": {
      "text/plain": [
       "[4.399999999999999,\n",
       " -8.0,\n",
       " 8.799999999999997,\n",
       " 3.200000000000001,\n",
       " 1.5999999999999996,\n",
       " -2.4000000000000004,\n",
       " 5.199999999999999,\n",
       " -3.5999999999999996,\n",
       " 9.2,\n",
       " -2.8000000000000007,\n",
       " -4.0,\n",
       " 1.200000000000001,\n",
       " 5.199999999999999,\n",
       " 4.0,\n",
       " -1.1999999999999993,\n",
       " -7.6,\n",
       " 5.600000000000001,\n",
       " -7.199999999999999,\n",
       " 8.799999999999997,\n",
       " -0.7999999999999989,\n",
       " 7.600000000000001,\n",
       " 0.8000000000000007,\n",
       " -3.1999999999999993,\n",
       " -9.6,\n",
       " -3.5999999999999996,\n",
       " -8.4,\n",
       " 2.8000000000000007,\n",
       " -1.1999999999999993,\n",
       " -5.6,\n",
       " 3.6000000000000014,\n",
       " -1.5999999999999996,\n",
       " -4.8,\n",
       " -10.0,\n",
       " -4.8,\n",
       " 2.8000000000000007,\n",
       " -5.6,\n",
       " -6.8,\n",
       " -2.8000000000000007,\n",
       " 4.800000000000001,\n",
       " -3.5999999999999996,\n",
       " -4.3999999999999995,\n",
       " -3.5999999999999996,\n",
       " 3.200000000000001,\n",
       " -0.40000000000000036,\n",
       " -4.3999999999999995,\n",
       " -2.8000000000000007,\n",
       " -9.2,\n",
       " -7.199999999999999,\n",
       " -7.199999999999999,\n",
       " 7.600000000000001]"
      ]
     },
     "execution_count": 21,
     "metadata": {},
     "output_type": "execute_result"
    }
   ],
   "source": [
    "contexts_list_pdcbo"
   ]
  },
  {
   "cell_type": "code",
   "execution_count": 23,
   "id": "f36a32eb",
   "metadata": {},
   "outputs": [
    {
     "name": "stdout",
     "output_type": "stream",
     "text": [
      "Start sampling functions.\n",
      "  \u001b[1mrbf.       \u001b[0;0m  |  value  |  constraints  |  priors\n",
      "  \u001b[1mvariance   \u001b[0;0m  |    2.0  |      +ve      |        \n",
      "  \u001b[1mlengthscale\u001b[0;0m  |   (2,)  |      +ve      |         0.01\n",
      "  \u001b[1mrbf.       \u001b[0;0m  |  value  |  constraints  |  priors\n",
      "  \u001b[1mvariance   \u001b[0;0m  |    2.0  |      +ve      |        \n",
      "  \u001b[1mlengthscale\u001b[0;0m  |   (2,)  |      +ve      |         0.01\n",
      "  \u001b[1mrbf.       \u001b[0;0m  |  value  |  constraints  |  priors\n",
      "  \u001b[1mvariance   \u001b[0;0m  |    2.0  |      +ve      |        \n",
      "  \u001b[1mlengthscale\u001b[0;0m  |   (2,)  |      +ve      |         0.01\n",
      "  \u001b[1mrbf.       \u001b[0;0m  |  value  |  constraints  |  priors\n",
      "  \u001b[1mvariance   \u001b[0;0m  |    2.0  |      +ve      |        \n",
      "  \u001b[1mlengthscale\u001b[0;0m  |   (2,)  |      +ve      |         0.01\n",
      "  \u001b[1mrbf.       \u001b[0;0m  |  value  |  constraints  |  priors\n",
      "  \u001b[1mvariance   \u001b[0;0m  |    2.0  |      +ve      |        \n",
      "  \u001b[1mlengthscale\u001b[0;0m  |   (2,)  |      +ve      |         0.01\n",
      "  \u001b[1mrbf.       \u001b[0;0m  |  value  |  constraints  |  priors\n",
      "  \u001b[1mvariance   \u001b[0;0m  |    2.0  |      +ve      |        \n",
      "  \u001b[1mlengthscale\u001b[0;0m  |   (2,)  |      +ve      |         0.01\n",
      "Functions sampled.\n",
      "[0.0, 0.0]\n",
      "2\n",
      "[50, 1]\n"
     ]
    }
   ],
   "source": [
    "config = util.get_sample_GP_two_dim_config('gp2d')"
   ]
  },
  {
   "cell_type": "code",
   "execution_count": 33,
   "id": "876d7e90",
   "metadata": {},
   "outputs": [
    {
     "data": {
      "text/plain": [
       "(6.0, -2.1553277245148785)"
      ]
     },
     "execution_count": 33,
     "metadata": {},
     "output_type": "execute_result"
    }
   ],
   "source": [
    "config['get_context'](step=2)"
   ]
  },
  {
   "cell_type": "code",
   "execution_count": null,
   "id": "5e8cffd0",
   "metadata": {},
   "outputs": [],
   "source": []
  }
 ],
 "metadata": {
  "kernelspec": {
   "display_name": "Python 3",
   "language": "python",
   "name": "python3"
  },
  "language_info": {
   "codemirror_mode": {
    "name": "ipython",
    "version": 3
   },
   "file_extension": ".py",
   "mimetype": "text/x-python",
   "name": "python",
   "nbconvert_exporter": "python",
   "pygments_lexer": "ipython3",
   "version": "3.8.5"
  }
 },
 "nbformat": 4,
 "nbformat_minor": 5
}
