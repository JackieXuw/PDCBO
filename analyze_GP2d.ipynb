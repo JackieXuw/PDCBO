{
 "cells": [
  {
   "cell_type": "code",
   "execution_count": 2,
   "id": "65163f45",
   "metadata": {},
   "outputs": [],
   "source": [
    "import util\n",
    "import copy\n",
    "import numpy as np\n",
    "from matplotlib import pyplot as plt\n",
    "from keep_default_optimizer import KeepDefaultOpt\n",
    "from grid_search_optimizer import GridSearchOpt\n",
    "import os\n",
    "from tune_util import get_vacbo_optimizer\n",
    "import pickle \n",
    "%load_ext autoreload\n",
    "%autoreload 2"
   ]
  },
  {
   "cell_type": "code",
   "execution_count": 3,
   "id": "eb7199bf",
   "metadata": {},
   "outputs": [],
   "source": [
    "with open('./result/twod_gp_min_16_30_12-Mar_05_2023.pkl', 'rb') as pickle_file:\n",
    "#with open('./result/discomfort_constrained_energy_min_05_02_09-Nov_26_2022.pkl', 'rb') as pickle_file:\n",
    "    content = pickle.load(pickle_file)\n",
    "\n",
    "opt_obj_list_pdcbo_list, constraints1_list_pdcbo_list, \\\n",
    "evaluated_points_list_pdcbo_list, \\\n",
    "contexts_list_pdcbo_list, \\\n",
    "cond_min_list_pdcbo_list, \\\n",
    "opt_obj_list_cbo_list, \\\n",
    "constraints1_list_cbo_list, evaluated_points_list_cbo_list, contexts_list_cbo_list, \\\n",
    "cond_min_list_cbo_list, \\\n",
    "opt_obj_list_safebo_list, \\\n",
    "constraints1_list_safebo_list, \\\n",
    "evaluated_points_list_safebo_list, \\\n",
    "contexts_list_safebo_list, \\\n",
    "cond_min_list_safebo_list = content\n",
    "\n",
    "dynamic_regret_list_pdcbo_list = [[opt_obj_list_pdcbo_list[traj_id][k] - cond_min_list_pdcbo_list[traj_id][k] for k in range(len(opt_obj_list_pdcbo_list[traj_id]))] \n",
    "                                  for traj_id in range(len(opt_obj_list_pdcbo_list))\n",
    "                                 ]\n",
    "dynamic_regret_list_cbo_list = [[opt_obj_list_cbo_list[traj_id][k] - cond_min_list_cbo_list[traj_id][k] for k in range(len(opt_obj_list_cbo_list[traj_id]))] \n",
    "                                for traj_id in range(len(opt_obj_list_cbo_list))\n",
    "                               ]\n",
    "dynamic_regret_list_safebo_list = [[-opt_obj_list_safebo_list[traj_id][k] - cond_min_list_safebo_list[traj_id][k] for k in range(len(opt_obj_list_safebo_list[traj_id]))]\n",
    "                                  for traj_id in range(len(opt_obj_list_safebo_list))\n",
    "                                  ]\n",
    "\n",
    "cumu_dynamic_regret_list_pdcbo_list = np.cumsum(dynamic_regret_list_pdcbo_list, axis=1)\n",
    "cumu_dynamic_regret_list_cbo_list = np.cumsum(dynamic_regret_list_cbo_list, axis=1)\n",
    "cumu_dynamic_regret_list_safebo_list = np.cumsum(dynamic_regret_list_safebo_list, axis=1)\n",
    "\n",
    "cumu_dynamic_regret_list_pdcbo_list_mean = np.mean(cumu_dynamic_regret_list_pdcbo_list, axis=0)\n",
    "cumu_dynamic_regret_list_cbo_list_mean = np.mean(cumu_dynamic_regret_list_cbo_list, axis=0)\n",
    "cumu_dynamic_regret_list_safebo_list_mean = np.mean(cumu_dynamic_regret_list_safebo_list, axis=0)\n",
    "\n",
    "cumu_dynamic_regret_list_pdcbo_list_std = np.std(cumu_dynamic_regret_list_pdcbo_list, axis=0)\n",
    "cumu_dynamic_regret_list_cbo_list_std = np.std(cumu_dynamic_regret_list_cbo_list, axis=0)\n",
    "cumu_dynamic_regret_list_safebo_list_std = np.std(cumu_dynamic_regret_list_safebo_list, axis=0)\n",
    "\n",
    "cumu_constraints1_list_pdcbo_list = np.cumsum(constraints1_list_pdcbo_list, axis=1)\n",
    "cumu_constraints1_list_cbo_list = np.cumsum(constraints1_list_cbo_list, axis=1)\n",
    "cumu_constraints1_list_safebo_list = np.cumsum(constraints1_list_safebo_list, axis=1)\n",
    "\n",
    "cumu_constraints1_list_pdcbo_list_mean = np.mean(cumu_constraints1_list_pdcbo_list, axis=0)\n",
    "cumu_constraints1_list_cbo_list_mean = np.mean(cumu_constraints1_list_cbo_list, axis=0)\n",
    "cumu_constraints1_list_safebo_list_mean = np.mean(cumu_constraints1_list_safebo_list, axis=0)\n",
    "\n",
    "cumu_constraints1_list_pdcbo_list_std = np.std(cumu_constraints1_list_pdcbo_list, axis=0)\n",
    "cumu_constraints1_list_cbo_list_std = np.std(cumu_constraints1_list_cbo_list, axis=0)\n",
    "cumu_constraints1_list_safebo_list_std = np.std(cumu_constraints1_list_safebo_list, axis=0)\n",
    "\n",
    "\n",
    "\n",
    "dynamic_regret_mean_pdcbo = np.mean(dynamic_regret_list_pdcbo_list, axis=0)\n",
    "dynamic_regret_mean_cbo = np.mean(dynamic_regret_list_cbo_list, axis=0)\n",
    "dynamic_regret_mean_safebo = np.mean(dynamic_regret_list_safebo_list, axis=0)\n",
    "\n",
    "constraints1_list_pdcbo = np.mean(constraints1_list_pdcbo_list, axis=0)\n",
    "constraints1_list_cbo = np.mean(constraints1_list_cbo_list, axis=0)\n",
    "constraints1_list_safebo = np.mean(constraints1_list_safebo_list, axis=0)"
   ]
  },
  {
   "cell_type": "code",
   "execution_count": 17,
   "id": "36be30c0",
   "metadata": {},
   "outputs": [
    {
     "data": {
      "image/png": "[encoded data removed]",
      "text/plain": [
       "<Figure size 215.065x305.716 with 2 Axes>"
      ]
     },
     "metadata": {
      "needs_background": "light"
     },
     "output_type": "display_data"
    }
   ],
   "source": [
    "MARKERSIZE = 1.5 * 0.4 * 0.1\n",
    "colors = ['red','purple', 'orange', 'green', 'blue', 'black', 'blue']\n",
    "marksCur = ['o','s', '*', 'v', '^','+']\n",
    "my_color = 'black' #'c'\n",
    "MS_ratio = 0.1\n",
    "from fig_hp import *\n",
    "def plot_with_shade_area(ax, x, y, yerr, **kwargs):\n",
    "    y = np.squeeze(y)\n",
    "    yerr = np.squeeze(yerr)\n",
    "    aver_line, = ax.plot(x, y,markersize=MARKERSIZE*MS_ratio, linewidth=LINEWIDTH, color=kwargs['color'], marker=kwargs['marker'], markerfacecolor='None')\n",
    "    aver_region = ax.fill_between(x, y-yerr, y+yerr, alpha=0.3,color=kwargs['color'])\n",
    "    return aver_line, aver_region\n",
    "\n",
    "if True:\n",
    "    total_steps = 500\n",
    "    step_arr = np.arange(total_steps)\n",
    "    \n",
    "    %matplotlib inline\n",
    "    #from matplotlib import rc\n",
    "    #plt.rc('text',usetex=False)\n",
    "   \n",
    "\n",
    "    \n",
    "    fig, axes = plt.subplots(2, 1)\n",
    "    fig.set_size_inches(WIDTH * 1.0, HEIGHT * 2.3)\n",
    "\n",
    "    fig.subplots_adjust(left=.22, bottom=.20, right=.99, top=.97, hspace=0.33, wspace=0.4) \n",
    "   \n",
    "    ax = axes[0]\n",
    "    BETA1 = 0.5\n",
    "    safe_line, _ = plot_with_shade_area(ax, step_arr, cumu_dynamic_regret_list_safebo_list_mean, BETA1*cumu_dynamic_regret_list_safebo_list_std,\n",
    "                         linewidth=LINEWIDTH, color=colors[0], marker=marksCur[0], markerfacecolor='None', markersize=MARKERSIZE)\n",
    "    cei_line, _ = plot_with_shade_area(ax, step_arr, cumu_dynamic_regret_list_cbo_list_mean, BETA1*cumu_dynamic_regret_list_cbo_list_std,\n",
    "                         linewidth=LINEWIDTH, color=colors[1], marker=marksCur[1], markerfacecolor='None', markersize=MARKERSIZE)\n",
    "    pdcbo_line, _ = plot_with_shade_area(ax, step_arr, cumu_dynamic_regret_list_pdcbo_list_mean, BETA1*cumu_dynamic_regret_list_pdcbo_list_std, \n",
    "                         linewidth=LINEWIDTH, color=colors[2], marker=marksCur[2], markerfacecolor='None', markersize=MARKERSIZE)\n",
    "   \n",
    "    plt.xticks(fontsize=LABELSIZE)\n",
    "    plt.yticks(fontsize=LABELSIZE)\n",
    "    ax.tick_params(axis='x', colors=my_color)\n",
    "    ax.tick_params(axis='y', colors=my_color)\n",
    "    ax.set_xlabel('Step', fontsize=LABELSIZE, color=my_color)\n",
    "    ax.set_ylabel('Cumulative Dynamic Regret', fontsize=LABELSIZE, color=my_color)  \n",
    "    plt.xlim((0, total_steps))\n",
    "\n",
    "    #ax.legend(['CEI', 'Safe BO', 'Primal-Dual', 'LCB2'])\n",
    "    \n",
    "    ax = axes[1]\n",
    "\n",
    "    #phi_line = ax.plot(con_bo_vio, linewidth=LINEWIDTH, color=colors[-1], marker=marksCur[1], markerfacecolor='None', markersize=MARKERSIZE)\n",
    "    BETA2 = 0.5\n",
    "    plot_with_shade_area(ax, step_arr, -cumu_constraints1_list_safebo_list_mean, BETA2*cumu_constraints1_list_safebo_list_std, \n",
    "                         linewidth=LINEWIDTH, color=colors[0], marker=marksCur[0], markerfacecolor='None')\n",
    "    plot_with_shade_area(ax, step_arr, cumu_constraints1_list_cbo_list_mean, BETA2*cumu_constraints1_list_cbo_list_std,\n",
    "                        linewidth=LINEWIDTH, color=colors[1], marker=marksCur[1], markerfacecolor='None')\n",
    "    plot_with_shade_area(ax, step_arr, cumu_constraints1_list_pdcbo_list_mean, BETA2*cumu_constraints1_list_pdcbo_list_std,\n",
    "                        linewidth=LINEWIDTH, color=colors[2], marker=marksCur[2], markerfacecolor='None')\n",
    "    #plot_with_shade_area(ax, step_arr, epbo_vio_1, BETA2*epbo_vio_sd_1,\n",
    "    #                    linewidth=LINEWIDTH, color=colors[4], marker=marksCur[4], markerfacecolor='None')\n",
    "    \n",
    "    plt.xlim((0, 500))\n",
    "    ax.legend([safe_line, cei_line, pdcbo_line], ['Safe BO', 'CEI', 'PDCBO'], loc='lower center', bbox_to_anchor=(0.2, -0.65, 0.5, 0.5),\n",
    "             ncol=3)\n",
    "\n",
    "    plt.xticks(fontsize=LABELSIZE, color=my_color)\n",
    "    plt.yticks(fontsize=LABELSIZE, color=my_color)\n",
    "    ax.set_xlabel('Step', fontsize=LABELSIZE, color=my_color)\n",
    "    ax.set_ylabel('Cumulative Constraint', fontsize=LABELSIZE, color=my_color)\n",
    "    #ax.set_xscale('log')\n",
    "    #ax.set_title('The Second Contextual Variable', fontsize=LABELSIZE)\n",
    "    #ax.set_ylim(0, 0.2)\n",
    "    #lgd = plt.legend(['', ''], loc='upper right', bbox_to_anchor=(1.0, 1.0), ncol=1, prop={'size': LABELSIZE})\n",
    "    #fig.set_size_inches(WIDTH, HEIGHT)\n",
    "\n",
    "    #lgd = fig.legend((aver_line[0], adv_line[0]), ('Average', 'Adversarial'), \n",
    "    #                 loc='upper right', bbox_to_anchor=(0.78, 0.1), ncol=3, prop={'size': LABELSIZE})\n",
    "\n",
    "    import tikzplotlib\n",
    "    tikzplotlib.clean_figure()\n",
    "    tikzplotlib.save('./fig/cumu_dyr_and_constraints.tex')\n",
    "    plt.savefig('./fig/cumu_dyr_and_constraints.pdf', format='pdf', bbox_inches='tight')\n",
    "    # plt.savefig(f'./fig/sample_funcs_r_and_v.pdf', format='pdf', bbox_inches='tight')\n",
    "    \n",
    "    plt.show()  \n",
    "   \n",
    "#plot_cumu_result(con_bo_regret_lists, safe_regret_lists, pdbo_regret_lists, lcb2_regret_lists,\n",
    "#                    con_bo_constrs_lists, safe_constrs_lists, pdbo_constrs_lists, lcb2_constrs_lists,\n",
    "#                epbo_regret_lists_2, epbo_constrs_lists_2, epbo_regret_lists_3, epbo_constrs_lists_3)\n"
   ]
  },
  {
   "cell_type": "code",
   "execution_count": 11,
   "id": "ba9d041f",
   "metadata": {},
   "outputs": [
    {
     "data": {
      "text/plain": [
       "0.6172086528693974"
      ]
     },
     "execution_count": 11,
     "metadata": {},
     "output_type": "execute_result"
    }
   ],
   "source": [
    "safe_bo_cumu_reg = cumu_dynamic_regret_list_safebo_list_mean[-1]\n",
    "pdcbo_cumu_reg = cumu_dynamic_regret_list_pdcbo_list_mean[-1]\n",
    "(safe_bo_cumu_reg-pdcbo_cumu_reg)/pdcbo_cumu_reg"
   ]
  },
  {
   "cell_type": "code",
   "execution_count": 13,
   "id": "c5e783bd",
   "metadata": {},
   "outputs": [
    {
     "data": {
      "text/plain": [
       "[<matplotlib.lines.Line2D at 0x7f8aafd35760>]"
      ]
     },
     "execution_count": 13,
     "metadata": {},
     "output_type": "execute_result"
    },
    {
     "data": {
      "image/png": "[encoded data removed]",
      "text/plain": [
       "<Figure size 432x288 with 1 Axes>"
      ]
     },
     "metadata": {
      "needs_background": "light"
     },
     "output_type": "display_data"
    },
    {
     "data": {
      "image/png": "[encoded data removed]",
      "text/plain": [
       "<Figure size 432x288 with 1 Axes>"
      ]
     },
     "metadata": {
      "needs_background": "light"
     },
     "output_type": "display_data"
    }
   ],
   "source": [
    "# plt.plot(np.cumsum(opt_obj_list_pdcbo))\n",
    "plt.plot(np.cumsum(dynamic_regret_mean_pdcbo))\n",
    "#plt.figure()\n",
    "#plt.plot(np.cumsum(constraints1_list_pdcbo)/(np.arange(len(constraints1_list_pdcbo))+1))\n",
    "\n",
    "#plt.figure()\n",
    "#plt.plot(np.cumsum(opt_obj_list_cbo))\n",
    "plt.plot(np.cumsum(dynamic_regret_mean_cbo))\n",
    "#plt.figure()\n",
    "#plt.plot(np.cumsum(constraints1_list_cbo)/(np.arange(len(constraints1_list_cbo))+1))\n",
    "\n",
    "\n",
    "#plt.figure()\n",
    "#plt.plot(-np.cumsum(opt_obj_list_safebo))\n",
    "plt.plot(np.cumsum(dynamic_regret_mean_safebo))\n",
    "plt.figure()\n",
    "\n",
    "plt.plot(np.cumsum(constraints1_list_pdcbo)/(np.arange(len(constraints1_list_pdcbo))+1))\n",
    "plt.plot(np.cumsum(constraints1_list_cbo)/(np.arange(len(constraints1_list_cbo))+1))\n",
    "plt.plot(-np.cumsum(constraints1_list_safebo)/(np.arange(len(constraints1_list_safebo))+1))"
   ]
  },
  {
   "cell_type": "code",
   "execution_count": 21,
   "id": "91d80ee5",
   "metadata": {},
   "outputs": [
    {
     "data": {
      "text/plain": [
       "[4.399999999999999,\n",
       " -8.0,\n",
       " 8.799999999999997,\n",
       " 3.200000000000001,\n",
       " 1.5999999999999996,\n",
       " -2.4000000000000004,\n",
       " 5.199999999999999,\n",
       " -3.5999999999999996,\n",
       " 9.2,\n",
       " -2.8000000000000007,\n",
       " -4.0,\n",
       " 1.200000000000001,\n",
       " 5.199999999999999,\n",
       " 4.0,\n",
       " -1.1999999999999993,\n",
       " -7.6,\n",
       " 5.600000000000001,\n",
       " -7.199999999999999,\n",
       " 8.799999999999997,\n",
       " -0.7999999999999989,\n",
       " 7.600000000000001,\n",
       " 0.8000000000000007,\n",
       " -3.1999999999999993,\n",
       " -9.6,\n",
       " -3.5999999999999996,\n",
       " -8.4,\n",
       " 2.8000000000000007,\n",
       " -1.1999999999999993,\n",
       " -5.6,\n",
       " 3.6000000000000014,\n",
       " -1.5999999999999996,\n",
       " -4.8,\n",
       " -10.0,\n",
       " -4.8,\n",
       " 2.8000000000000007,\n",
       " -5.6,\n",
       " -6.8,\n",
       " -2.8000000000000007,\n",
       " 4.800000000000001,\n",
       " -3.5999999999999996,\n",
       " -4.3999999999999995,\n",
       " -3.5999999999999996,\n",
       " 3.200000000000001,\n",
       " -0.40000000000000036,\n",
       " -4.3999999999999995,\n",
       " -2.8000000000000007,\n",
       " -9.2,\n",
       " -7.199999999999999,\n",
       " -7.199999999999999,\n",
       " 7.600000000000001]"
      ]
     },
     "execution_count": 21,
     "metadata": {},
     "output_type": "execute_result"
    }
   ],
   "source": [
    "contexts_list_pdcbo"
   ]
  },
  {
   "cell_type": "code",
   "execution_count": 23,
   "id": "6a021480",
   "metadata": {},
   "outputs": [
    {
     "name": "stdout",
     "output_type": "stream",
     "text": [
      "Start sampling functions.\n",
      "  \u001b[1mrbf.       \u001b[0;0m  |  value  |  constraints  |  priors\n",
      "  \u001b[1mvariance   \u001b[0;0m  |    2.0  |      +ve      |        \n",
      "  \u001b[1mlengthscale\u001b[0;0m  |   (2,)  |      +ve      |         0.01\n",
      "  \u001b[1mrbf.       \u001b[0;0m  |  value  |  constraints  |  priors\n",
      "  \u001b[1mvariance   \u001b[0;0m  |    2.0  |      +ve      |        \n",
      "  \u001b[1mlengthscale\u001b[0;0m  |   (2,)  |      +ve      |         0.01\n",
      "  \u001b[1mrbf.       \u001b[0;0m  |  value  |  constraints  |  priors\n",
      "  \u001b[1mvariance   \u001b[0;0m  |    2.0  |      +ve      |        \n",
      "  \u001b[1mlengthscale\u001b[0;0m  |   (2,)  |      +ve      |         0.01\n",
      "  \u001b[1mrbf.       \u001b[0;0m  |  value  |  constraints  |  priors\n",
      "  \u001b[1mvariance   \u001b[0;0m  |    2.0  |      +ve      |        \n",
      "  \u001b[1mlengthscale\u001b[0;0m  |   (2,)  |      +ve      |         0.01\n",
      "  \u001b[1mrbf.       \u001b[0;0m  |  value  |  constraints  |  priors\n",
      "  \u001b[1mvariance   \u001b[0;0m  |    2.0  |      +ve      |        \n",
      "  \u001b[1mlengthscale\u001b[0;0m  |   (2,)  |      +ve      |         0.01\n",
      "  \u001b[1mrbf.       \u001b[0;0m  |  value  |  constraints  |  priors\n",
      "  \u001b[1mvariance   \u001b[0;0m  |    2.0  |      +ve      |        \n",
      "  \u001b[1mlengthscale\u001b[0;0m  |   (2,)  |      +ve      |         0.01\n",
      "Functions sampled.\n",
      "[0.0, 0.0]\n",
      "2\n",
      "[50, 1]\n"
     ]
    }
   ],
   "source": [
    "config = util.get_sample_GP_two_dim_config('gp2d')"
   ]
  },
  {
   "cell_type": "code",
   "execution_count": 33,
   "id": "dc6e8964",
   "metadata": {},
   "outputs": [
    {
     "data": {
      "text/plain": [
       "(6.0, -2.1553277245148785)"
      ]
     },
     "execution_count": 33,
     "metadata": {},
     "output_type": "execute_result"
    }
   ],
   "source": [
    "config['get_context'](step=2)"
   ]
  },
  {
   "cell_type": "code",
   "execution_count": null,
   "id": "396833f9",
   "metadata": {},
   "outputs": [],
   "source": []
  }
 ],
 "metadata": {
  "kernelspec": {
   "display_name": "Python 3",
   "language": "python",
   "name": "python3"
  },
  "language_info": {
   "codemirror_mode": {
    "name": "ipython",
    "version": 3
   },
   "file_extension": ".py",
   "mimetype": "text/x-python",
   "name": "python",
   "nbconvert_exporter": "python",
   "pygments_lexer": "ipython3",
   "version": "3.8.5"
  }
 },
 "nbformat": 4,
 "nbformat_minor": 5
}
